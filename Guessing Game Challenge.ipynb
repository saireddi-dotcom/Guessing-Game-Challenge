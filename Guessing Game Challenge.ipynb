{
 "cells": [
  {
   "cell_type": "markdown",
   "metadata": {},
   "source": [
    "# Guessing Game Challenge\n",
    "\n",
    "The Challenge:\n",
    "\n",
    "Write a program that picks a random integer from 1 to 100, and has players guess the number. The rules are:\n",
    "\n",
    "1. If a player's guess is less than 1 or greater than 100, say \"OUT OF BOUNDS\"\n",
    "2. On a player's first turn, if their guess is\n",
    " * within 10 of the number, return \"WARM!\"\n",
    " * further than 10 away from the number, return \"COLD!\"\n",
    "3. On all subsequent turns, if a guess is \n",
    " * closer to the number than the previous guess return \"WARMER!\"\n",
    " * farther from the number than the previous guess, return \"COLDER!\"\n",
    "4. When the player's guess equals the number, tell them they've guessed correctly *and* how many guesses it took!\n"
   ]
  },
  {
   "cell_type": "code",
   "execution_count": 4,
   "metadata": {},
   "outputs": [
    {
     "name": "stdout",
     "output_type": "stream",
     "text": [
      "Guess a number b/w 1 & 100: 5\n",
      "Cold\n",
      "Guess a number b/w 1 & 100: 55\n",
      "Warmer\n",
      "Guess a number b/w 1 & 100: 60\n",
      "Colder\n",
      "Guess a number b/w 1 & 100: 52\n",
      "Warmer\n",
      "Guess a number b/w 1 & 100: 45\n",
      "Colder\n",
      "Guess a number b/w 1 & 100: 50\n",
      "That's the correct number & your number of guesses are 6\n"
     ]
    }
   ],
   "source": [
    "import random\n",
    "i=0\n",
    "c=0\n",
    "l=[]\n",
    "x=random.randint(1,100)\n",
    "#print(x)\n",
    "while i<1:\n",
    "    c+=1\n",
    "    a=int(input('Guess a number b/w 1 & 100: '))\n",
    "    l.append(a)\n",
    "    \n",
    "    if (a<1 or a>100):\n",
    "        print('OUT OF BOUNDS')\n",
    "        \n",
    "    elif (a==x):\n",
    "        print(\"That's the correct number & your number of guesses are {}\".format(c))\n",
    "        i=1\n",
    "        \n",
    "    else:\n",
    "        if (c==1):\n",
    "            if a in range(x-10,x+11):\n",
    "                print('Warm')\n",
    "            else:\n",
    "                print('Cold')  \n",
    "        elif (c!=1):\n",
    "            if abs(a-x)>abs(l[-2]-x):\n",
    "                print('Colder')\n",
    "            else:\n",
    "                print('Warmer')\n",
    "    "
   ]
  }
 ],
 "metadata": {
  "kernelspec": {
   "display_name": "Python 3",
   "language": "python",
   "name": "python3"
  },
  "language_info": {
   "codemirror_mode": {
    "name": "ipython",
    "version": 3
   },
   "file_extension": ".py",
   "mimetype": "text/x-python",
   "name": "python",
   "nbconvert_exporter": "python",
   "pygments_lexer": "ipython3",
   "version": "3.7.3"
  }
 },
 "nbformat": 4,
 "nbformat_minor": 2
}
